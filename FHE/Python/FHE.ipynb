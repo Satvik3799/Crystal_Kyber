{
 "cells": [
  {
   "cell_type": "code",
   "execution_count": 3,
   "metadata": {},
   "outputs": [],
   "source": [
    "import base64\n",
    " \n",
    "def write_data(file_name: str, data: bytes):\n",
    "    data = base64.b64encode(data)\n",
    "    with open(file_name, 'wb') as f: \n",
    "        f.write(data)\n",
    "  \n",
    "def read_data(file_name: str) -> bytes:\n",
    "    with open(file_name, 'rb') as f:\n",
    "        data = f.read()\n",
    "    return base64.b64decode(data)\n"
   ]
  },
  {
   "cell_type": "code",
   "execution_count": 4,
   "metadata": {},
   "outputs": [
    {
     "ename": "NameError",
     "evalue": "name 'ts' is not defined",
     "output_type": "error",
     "traceback": [
      "\u001b[0;31m---------------------------------------------------------------------------\u001b[0m",
      "\u001b[0;31mNameError\u001b[0m                                 Traceback (most recent call last)",
      "Cell \u001b[0;32mIn[4], line 3\u001b[0m\n\u001b[1;32m      1\u001b[0m \u001b[38;5;28;01mimport\u001b[39;00m \u001b[38;5;21;01mtenseal\u001b[39;00m\n\u001b[0;32m----> 3\u001b[0m context \u001b[38;5;241m=\u001b[39m \u001b[43mts\u001b[49m\u001b[38;5;241m.\u001b[39mcontext(ts\u001b[38;5;241m.\u001b[39mSCHEME_TYPE\u001b[38;5;241m.\u001b[39mCKKS, poly_modulus_degree \u001b[38;5;241m=\u001b[39m \u001b[38;5;241m8192\u001b[39m, coeff_mod_bit_sizes \u001b[38;5;241m=\u001b[39m [\u001b[38;5;241m60\u001b[39m, \u001b[38;5;241m40\u001b[39m, \u001b[38;5;241m40\u001b[39m, \u001b[38;5;241m60\u001b[39m])\n\u001b[1;32m      4\u001b[0m context\u001b[38;5;241m.\u001b[39mgenerate_galois_keys()\n\u001b[1;32m      5\u001b[0m context\u001b[38;5;241m.\u001b[39mglobal_scale \u001b[38;5;241m=\u001b[39m \u001b[38;5;241m2\u001b[39m\u001b[38;5;241m*\u001b[39m\u001b[38;5;241m*\u001b[39m\u001b[38;5;241m40\u001b[39m\n",
      "\u001b[0;31mNameError\u001b[0m: name 'ts' is not defined"
     ]
    }
   ],
   "source": [
    "import tenseal as ts\n",
    "\n",
    "context = ts.context(ts.SCHEME_TYPE.CKKS, poly_modulus_degree = 8192, coeff_mod_bit_sizes = [60, 40, 40, 60])\n",
    "context.generate_galois_keys()\n",
    "context.global_scale = 2**40\n",
    "\n",
    "secret_context = context.serialize(save_secret_key = True)\n",
    "write_data('secret.txt', secret_context)\n",
    "  \n",
    "context.make_context_public()\n",
    "public_context = context.serialize()\n",
    "write_data('public.txt', public_context)\n",
    "\n",
    "\n"
   ]
  },
  {
   "cell_type": "markdown",
   "metadata": {},
   "source": [
    "# Data owner encrypts salary, wage increase rate and bonus"
   ]
  },
  {
   "cell_type": "code",
   "execution_count": null,
   "metadata": {},
   "outputs": [],
   "source": [
    "wage_weight = [1.2]\n",
    "wage_weight_encrypted = ts.ckks_vector(context, wage_weight)\n",
    "write_data('wage_weight_encrypted.txt', wage_weight_encrypted.serialize())\n",
    " \n",
    "bonus_weight = [600]\n",
    "bonus_weight_encrypted = ts.ckks_vector(context, bonus_weight)\n",
    "write_data('bonus_weight_encrypted.txt', bonus_weight_encrypted.serialize())\n"
   ]
  },
  {
   "cell_type": "markdown",
   "metadata": {},
   "source": [
    "# Data operator calculates the new salary"
   ]
  },
  {
   "cell_type": "code",
   "execution_count": null,
   "metadata": {},
   "outputs": [],
   "source": [
    "context = ts.context_from(read_data('public.txt'))\n",
    "\n",
    "# base salary encrypted\n",
    "salary_proto = read_data('salary_encrypted.txt')\n",
    "salary_encrypted = ts.lazy_ckks_vector_from(salary_proto)\n",
    "salary_encrypted.link_context(context)\n",
    " \n",
    "# wage increase percentage encrypted\n",
    "w_proto = read_data('wage_weight_encrypted.txt')\n",
    "w_encrypted = ts.lazy_ckks_vector_from(w_proto)\n",
    "w_encrypted.link_context(context)\n",
    " \n",
    "# bonus encrypted\n",
    "b_proto = read_data('bonus_weight_encrypted.txt')\n",
    "b_encrypted = ts.lazy_ckks_vector_from(b_proto)\n",
    "b_encrypted.link_context(context)\n",
    "\n",
    "new_salary_encrypted = ( salary_encrypted * w_encrypted ) + b_encrypted\n",
    "write_data('new_salary_encrypted.txt', new_salary_encrypted)\n",
    "\n",
    "w = ts.plain_vector([1.2])\n",
    "b = ts.plain_vector([600])\n",
    " \n",
    "new_salary_encrypted_v2 = ( salary_encrypted * w ) + b\n",
    "write_data('new_salary_encrypted_v2.txt', new_salary_encrypted_v2)"
   ]
  },
  {
   "cell_type": "markdown",
   "metadata": {},
   "source": [
    "# Data owner decrypts new salary"
   ]
  },
  {
   "cell_type": "code",
   "execution_count": null,
   "metadata": {},
   "outputs": [],
   "source": [
    "m1_proto = read_data('new_salary_encrypted.txt')\n",
    "m1 = ts.lazy_ckks_vector_from(m1_proto)\n",
    "m1.link_context(context)\n",
    "print(round(m1.decrypt()[0], 2))\n",
    " \n",
    "m2_proto = read_data('new_salary_encrypted_v2.txt')\n",
    "m2 = ts.lazy_ckks_vector_from(m2_proto)\n",
    "m2.link_context(context)\n",
    "print(round(m2.decrypt()[0], 2))"
   ]
  },
  {
   "cell_type": "markdown",
   "metadata": {},
   "source": []
  }
 ],
 "metadata": {
  "kernelspec": {
   "display_name": "Python 3",
   "language": "python",
   "name": "python3"
  },
  "language_info": {
   "codemirror_mode": {
    "name": "ipython",
    "version": 3
   },
   "file_extension": ".py",
   "mimetype": "text/x-python",
   "name": "python",
   "nbconvert_exporter": "python",
   "pygments_lexer": "ipython3",
   "version": "3.10.12"
  }
 },
 "nbformat": 4,
 "nbformat_minor": 2
}
